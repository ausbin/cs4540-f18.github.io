{
 "cells": [
  {
   "cell_type": "code",
   "execution_count": 1,
   "metadata": {},
   "outputs": [],
   "source": [
    "%matplotlib inline\n",
    "import numpy as np;\n",
    "from matplotlib import pyplot as plt"
   ]
  },
  {
   "cell_type": "markdown",
   "metadata": {},
   "source": [
    "$\\LaTeX \\text{ commands here}\n",
    "\\newcommand{\\R}{\\mathbb{R}}\n",
    "\\newcommand{\\im}{\\text{im}\\,}\n",
    "\\newcommand{\\norm}[1]{||#1||}\n",
    "\\newcommand{\\inner}[1]{\\langle #1 \\rangle}\n",
    "\\newcommand{\\span}{\\mathrm{span}}\n",
    "\\newcommand{\\proj}{\\mathrm{proj}}\n",
    "$"
   ]
  },
  {
   "cell_type": "markdown",
   "metadata": {
    "slideshow": {
     "slide_type": "slide"
    }
   },
   "source": [
    "<hr style=\"border: 5px solid black\">\n",
    "\n",
    "**Georgia Tech, CS 4540**\n",
    "\n",
    "# L6:  Linear Programming Introduction\n",
    "\n",
    "Benjamin Bray\n",
    "\n",
    "\n",
    "*Thursday, September 6, 2018*"
   ]
  },
  {
   "cell_type": "markdown",
   "metadata": {
    "slideshow": {
     "slide_type": "slide"
    }
   },
   "source": [
    "## Reading\n",
    "\n",
    "* Tim Roughgarden, Stanford CS261, [\"Lecture 7:  Linear Programming\"](http://theory.stanford.edu/~tim/w16/l/l7.pdf)\n",
    "* Thomas S. Ferguson, [\"Linear Programming:  A Concise Introduction\"](https://www.math.ucla.edu/~tom/LP.pdf)"
   ]
  },
  {
   "cell_type": "markdown",
   "metadata": {
    "slideshow": {
     "slide_type": "slide"
    }
   },
   "source": [
    "### Recall:  Linear Programs\n",
    "\n",
    "A **linear program** consists of:\n",
    "\n",
    "* **Decision variables** $x = (x_1,\\dots,x_n) \\in \\R^d$\n",
    "* **Linear constraints** of the form $(a^T x \\leq b)$, $(a^Tx \\geq b)$, or $(a^T x = b)$\n",
    "    * Here, $a \\in \\R^n$ is a vector and $b \\in \\R$ is a scalar\n",
    "* A **linear objective function** $c^T x$ which we want to maximize (or minimize).\n",
    "\n",
    "The reading contained the following example:\n",
    "\n",
    "<div style=\"border:1px solid black; padding:20px; margin:20px; width: 60%\">\n",
    "$$\n",
    "\\begin{align}\n",
    "\\max_{x_1, x_2} &\\quad x_1 + x_2 \\\\\n",
    "\\text{such that}\n",
    "&\\quad x_1 \\geq 0 \\\\\n",
    "&\\quad x_2 \\geq 0 \\\\\n",
    "&\\quad 2 x_1 + x_2 \\leq 1 \\\\\n",
    "&\\quad x_1 + 2 x_2 \\leq 1\n",
    "\\end{align}\n",
    "$$\n",
    "</div>"
   ]
  },
  {
   "cell_type": "markdown",
   "metadata": {
    "slideshow": {
     "slide_type": "slide"
    }
   },
   "source": [
    "### Recall:  Terminology\n",
    "\n",
    "* Feasible region\n",
    "* Extreme point\n",
    "* Basic solution\n",
    "* Bounded/unbounded\n",
    "* Optimal"
   ]
  },
  {
   "cell_type": "markdown",
   "metadata": {
    "slideshow": {
     "slide_type": "slide"
    }
   },
   "source": [
    "### Warm-Up:  Feasible region is convex.\n",
    "\n",
    "<div style=\"padding:20px;margin:20px;border: 1px solid black\">\n",
    "<b>Problem 1</b>: The <b>feasible region</b> of a linear program is the set of all $x \\in \\R^d$ which satisfy the constraints.  Argue that the feasible region is a convex set.\n",
    "</div>"
   ]
  },
  {
   "cell_type": "markdown",
   "metadata": {
    "slideshow": {
     "slide_type": "slide"
    }
   },
   "source": [
    "### Solution to Warm-Up\n",
    "\n",
    "> FILL IN  (talk about intersection of hyperplanes, level sets, etc.)"
   ]
  },
  {
   "cell_type": "markdown",
   "metadata": {
    "slideshow": {
     "slide_type": "slide"
    }
   },
   "source": [
    "### Problem:  LP Example\n",
    "\n",
    "> FILL IN (Diet Problem?  Shortest Path?)"
   ]
  },
  {
   "cell_type": "markdown",
   "metadata": {
    "slideshow": {
     "slide_type": "slide"
    }
   },
   "source": [
    "### Problem:  Inequalities\n",
    "\n",
    "**Problem:**  Argue that every linear program can be written using only $\\leq$ constraints.  As an example, rewrite the following linear program using only constraints of the form $(a^T x \\leq b)$.\n",
    "$$\n",
    "\\begin{align}\n",
    "\\max_{x \\in \\R^d} &\\quad c^T x \\\\\n",
    "\\text{such that}\n",
    "&\\quad a^T x \\geq \\alpha \\\\\n",
    "&\\quad b^T x = \\beta \\\\\n",
    "\\end{align}\n",
    "$$"
   ]
  },
  {
   "cell_type": "markdown",
   "metadata": {},
   "source": [
    "### Problem:  Nonnegative Decision Variables\n",
    "\n",
    "**Problem:**  Argue that any linear program can be rewritten to have only nonnegative decision variables.\n",
    "\n",
    "> FILL IN"
   ]
  },
  {
   "cell_type": "markdown",
   "metadata": {
    "slideshow": {
     "slide_type": "slide"
    }
   },
   "source": [
    "### Linear Programs in Standard Form\n",
    "\n",
    "This brings us to the **standard form** of a linear program, which for $c,x \\in \\R^d$, $b \\in \\R^m$ and $A \\in \\R^{m \\times d}$ is\n",
    "\n",
    "<div style=\"padding:20px;margin:20px;border: 1px solid black\">\n",
    "\\begin{align}\n",
    "\\max_{x \\in \\R^d} &\\quad c^T x \\\\\n",
    "\\text{such that}  &\\quad Ax \\leq b \\\\\n",
    "                  &\\quad  x \\geq 0\n",
    "\\end{align}\n",
    "</div>"
   ]
  },
  {
   "cell_type": "markdown",
   "metadata": {},
   "source": [
    "### Problem:  Convert to Standard Form\n",
    "\n",
    "Convert the following linear program to standard form:\n",
    "\n",
    "> FILL IN"
   ]
  },
  {
   "cell_type": "markdown",
   "metadata": {
    "slideshow": {
     "slide_type": "slide"
    }
   },
   "source": [
    "### Farkas Lemma Teaser\n",
    "\n",
    "We will work towards proving the following Lemma:\n",
    "\n",
    "> FILL IN"
   ]
  },
  {
   "cell_type": "markdown",
   "metadata": {
    "slideshow": {
     "slide_type": "slide"
    }
   },
   "source": [
    "### Problem:  Farkas Part 1\n",
    "\n",
    "**Problem:** Prove that \n",
    "$$\n",
    "(\\exists\\, x \\geq 0 \\text{ s.t. } Ax = b) \\iff (b \\in \\mathrm{cone}(a_1, \\dots, a_k)\n",
    "$$"
   ]
  }
 ],
 "metadata": {
  "celltoolbar": "Slideshow",
  "kernelspec": {
   "display_name": "Python [default]",
   "language": "python",
   "name": "python3"
  },
  "language_info": {
   "codemirror_mode": {
    "name": "ipython",
    "version": 3
   },
   "file_extension": ".py",
   "mimetype": "text/x-python",
   "name": "python",
   "nbconvert_exporter": "python",
   "pygments_lexer": "ipython3",
   "version": "3.5.5"
  }
 },
 "nbformat": 4,
 "nbformat_minor": 2
}
